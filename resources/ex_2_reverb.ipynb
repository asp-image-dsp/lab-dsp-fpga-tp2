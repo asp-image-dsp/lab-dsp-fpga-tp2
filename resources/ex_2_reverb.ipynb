{
 "cells": [
  {
   "cell_type": "code",
   "execution_count": 5,
   "metadata": {},
   "outputs": [],
   "source": [
    "import numpy as np"
   ]
  },
  {
   "cell_type": "code",
   "execution_count": 8,
   "metadata": {},
   "outputs": [],
   "source": [
    "import matplotlib.pyplot as plt"
   ]
  },
  {
   "cell_type": "code",
   "execution_count": 18,
   "metadata": {},
   "outputs": [
    {
     "name": "stdout",
     "output_type": "stream",
     "text": [
      "w(-4)=0.0\n",
      "w(-3)=0.0\n",
      "w(-2)=0.0\n",
      "w(-1)=0.0\n",
      "w(0)=[0.15]\n",
      "w(1)=[0.]\n",
      "w(2)=[0.]\n",
      "w(3)=[0.]\n",
      "w(4)=[0.0375]\n",
      "w(5)=[0.]\n",
      "w(6)=[0.]\n",
      "w(7)=[0.]\n"
     ]
    },
    {
     "data": {
      "image/png": "[encoded data removed]",
      "text/plain": [
       "<Figure size 432x288 with 1 Axes>"
      ]
     },
     "metadata": {
      "needs_background": "light"
     },
     "output_type": "display_data"
    },
    {
     "name": "stdout",
     "output_type": "stream",
     "text": [
      "[[0.1    ]\n",
      " [0.     ]\n",
      " [0.     ]\n",
      " [0.     ]\n",
      " [0.075  ]\n",
      " [0.     ]\n",
      " [0.     ]\n",
      " [0.     ]\n",
      " [0.01875]\n",
      " [0.     ]\n",
      " [0.     ]\n",
      " [0.     ]]\n"
     ]
    }
   ],
   "source": [
    "N = 4\n",
    "L = 12 # Testbench Length\n",
    "e1 = 0.5\n",
    "e2 = 0.5\n",
    "x = np.zeros((L, 1))\n",
    "x[0] = 0.1\n",
    "y = np.zeros((L,1))\n",
    "for k in range(L):\n",
    "    xprev = x[k-N] if k >= N else 0\n",
    "    yprev = y[k-N] if k >= N else 0 \n",
    "    wprev = xprev + e2*yprev\n",
    "    print(f'w({k-N})={wprev}')\n",
    "    y[k] = x[k] + e1 * wprev\n",
    "    \n",
    "plt.scatter(range(L), y)\n",
    "plt.grid()\n",
    "plt.show()\n",
    "print(y)"
   ]
  },
  {
   "cell_type": "code",
   "execution_count": null,
   "metadata": {},
   "outputs": [],
   "source": []
  }
 ],
 "metadata": {
  "kernelspec": {
   "display_name": "Python 3",
   "language": "python",
   "name": "python3"
  },
  "language_info": {
   "codemirror_mode": {
    "name": "ipython",
    "version": 3
   },
   "file_extension": ".py",
   "mimetype": "text/x-python",
   "name": "python",
   "nbconvert_exporter": "python",
   "pygments_lexer": "ipython3",
   "version": "3.7.6"
  }
 },
 "nbformat": 4,
 "nbformat_minor": 4
}

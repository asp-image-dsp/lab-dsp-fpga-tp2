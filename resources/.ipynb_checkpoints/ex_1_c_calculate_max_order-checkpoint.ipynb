{
 "cells": [
  {
   "cell_type": "markdown",
   "metadata": {},
   "source": [
    "# Cálculo de máximo orden del filtro FIR a realizar\n",
    "Para determinar el máximo orden, deben tenerse consideraciones de memoria y frecuencia de sample."
   ]
  },
  {
   "cell_type": "markdown",
   "metadata": {},
   "source": [
    "## Consideraciones de memoria\n",
    "Teniendo en cuenta el mapa de memoria a continuación, y sabiendo que los coeficientes en el programa actual comienzan a cargarse desde la posición Y:0, se tiene espacio de memoria interna (con la cual es posible el parallel move) hasta Y:$00FFFF, es decir aproximadamente 65.500 palabras de 24 bits (aproximadamente, si es que las otras variables no usan espacio de la zona Y)."
   ]
  },
  {
   "cell_type": "markdown",
   "metadata": {},
   "source": [
    "<img src=\"memory_map.png\">"
   ]
  },
  {
   "cell_type": "markdown",
   "metadata": {},
   "source": [
    "## Consideraciones de frecuencia de sample\n",
    "Se usa una $ f_s = 48kHz $. Sabiendo que el ciclo de máquina con el clock a 50MHz es de 20ns, y que las instrucciones que corren en la rutina de interrupción son:"
   ]
  },
  {
   "cell_type": "markdown",
   "metadata": {},
   "source": [
    "<img src=\"ISR.png\">"
   ]
  },
  {
   "cell_type": "code",
   "execution_count": 3,
   "metadata": {},
   "outputs": [
    {
     "name": "stdout",
     "output_type": "stream",
     "text": [
      "2078.333333333333\n"
     ]
    }
   ],
   "source": [
    "fs = 48e3\n",
    "cycle_time = 10e-9\n",
    "# machine_cycles = 2 + 1 + 1 + ntaps * 1 + 1\n",
    "max_taps = ((1 / fs) / cycle_time - 2 - 1 - 1 - 1) / 1\n",
    "print(max_taps)"
   ]
  }
 ],
 "metadata": {
  "interpreter": {
   "hash": "68fb5c20ba1a3aa3334967319a3d04975c138802f4c530b6ce16821a76da13ee"
  },
  "kernelspec": {
   "display_name": "Python 3",
   "language": "python",
   "name": "python3"
  },
  "language_info": {
   "codemirror_mode": {
    "name": "ipython",
    "version": 3
   },
   "file_extension": ".py",
   "mimetype": "text/x-python",
   "name": "python",
   "nbconvert_exporter": "python",
   "pygments_lexer": "ipython3",
   "version": "3.8.5"
  }
 },
 "nbformat": 4,
 "nbformat_minor": 2
}

{
 "cells": [
  {
   "cell_type": "markdown",
   "source": [
    "# Cálculo de máximo orden del filtro FIR a realizar\r\n",
    "Para determinar el máximo orden, deben tenerse consideraciones de memoria y frecuencia de sample."
   ],
   "metadata": {}
  },
  {
   "cell_type": "markdown",
   "source": [
    "## Consideraciones de memoria\r\n",
    "Teniendo en cuenta el mapa de memoria a continuación, y sabiendo que los coeficientes en el programa actual comienzan a cargarse desde la posición Y:0, se tiene espacio de memoria interna (con la cual es posible el parallel move) hasta Y:$00FFFF, es decir aproximadamente 65.500 palabras de 24 bits (aproximadamente, si es que las otras variables no usan espacio de la zona Y)."
   ],
   "metadata": {}
  },
  {
   "cell_type": "markdown",
   "source": [
    "<img src=\"memory_map.png\">"
   ],
   "metadata": {}
  },
  {
   "cell_type": "markdown",
   "source": [
    "## Consideraciones de frecuencia de sample\r\n",
    "Se usa una $ f_s = 48kHz $. Sabiendo que el ciclo de máquina con el clock a 50MHz es de 20ns, y que las instrucciones que corren en la rutina de interrupción son:"
   ],
   "metadata": {}
  },
  {
   "cell_type": "markdown",
   "source": [
    "<img src=\"ISR.png\">"
   ],
   "metadata": {}
  },
  {
   "cell_type": "code",
   "execution_count": 2,
   "source": [
    "fs = 48e3\r\n",
    "cycle_time = 20e-9\r\n",
    "# machine_cycles = 2 + 1 + 1 + ntaps * 1 + 1\r\n",
    "max_taps = ((1 / fs) / cycle_time - 2 - 1 - 1 - 1) / 1\r\n",
    "print(max_taps)"
   ],
   "outputs": [
    {
     "output_type": "stream",
     "name": "stdout",
     "text": [
      "1036.6666666666665\n"
     ]
    }
   ],
   "metadata": {}
  }
 ],
 "metadata": {
  "orig_nbformat": 4,
  "language_info": {
   "name": "python",
   "version": "3.7.7",
   "mimetype": "text/x-python",
   "codemirror_mode": {
    "name": "ipython",
    "version": 3
   },
   "pygments_lexer": "ipython3",
   "nbconvert_exporter": "python",
   "file_extension": ".py"
  },
  "kernelspec": {
   "name": "python3",
   "display_name": "Python 3.7.7 64-bit ('base': conda)"
  },
  "interpreter": {
   "hash": "68fb5c20ba1a3aa3334967319a3d04975c138802f4c530b6ce16821a76da13ee"
  }
 },
 "nbformat": 4,
 "nbformat_minor": 2
}